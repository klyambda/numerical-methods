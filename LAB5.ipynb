{
  "cells": [
    {
      "cell_type": "markdown",
      "metadata": {
        "id": "s9QKU1O2hY02"
      },
      "source": [
        "# Задание 5.1\n",
        "\n",
        "Вычислить интеграл с помощью квадратурных формул левых прямоугольников,\n",
        "Гаусса и по формуле Милна\n"
      ]
    },
    {
      "cell_type": "markdown",
      "metadata": {
        "id": "-Yl1O9DdhY1e"
      },
      "source": [
        "$$I = \\int_{1}^{3} P_m(x) \\,dx$$\n",
        "$$P_m(x) = \\sum_{i=0}^{n} c_i x^i $$\n",
        "$$c = [0,\t–2.9,\t–0.9,\t0.4,\t1.9,\t–4.2]$$\\\n",
        "аналитическое вычисление интеграла\n",
        "$$\\int_{1}^{3} P_m(x) \\,dx  = \\int_{1}^{3} (-2.9 x - 0.9 x^2 + 0.4 x^3 + 1.9 x^4 - 4.2 x^5) \\,dx = \n",
        "(-\\frac{2.9}{2} x^2 - \\frac{0.9}{3} x^3 + \\frac{0.4}{4} x^4 + \\frac{1.9}{5} x^5 - \\frac{4.2}{6} x^6)|^3_1 = -429.04$$"
      ]
    },
    {
      "cell_type": "code",
      "execution_count": null,
      "metadata": {
        "id": "Muxm-VUlhY1h"
      },
      "outputs": [],
      "source": [
        "import numpy as np\n",
        "from sympy import *\n",
        "import matplotlib.pyplot as plt\n",
        "import time\n",
        "from dataclasses import dataclass, field\n",
        "from typing import Callable, ClassVar, Dict, Optional\n",
        "from scipy import integrate"
      ]
    },
    {
      "cell_type": "code",
      "execution_count": null,
      "metadata": {
        "id": "q338m5K4hY1l"
      },
      "outputs": [],
      "source": [
        "def f(x):\n",
        "    return -2.9 * x - 0.9 * x ** 2 + 0.4 * x ** 3 + 1.9 * x ** 4 - 4.2 * x ** 5"
      ]
    },
    {
      "cell_type": "code",
      "execution_count": null,
      "metadata": {
        "id": "OXvVeN6VhY1m"
      },
      "outputs": [],
      "source": [
        "# аналитическое решение\n",
        "def int_f(a, b, c=np.array([0, -2.9, -0.9, 0.4, 1.9, -4.2])):\n",
        "    return np.sum([c[i] * (b ** (i + 1) - a ** (i + 1)) / (i + 1) for i in range(len(c))])\n",
        "\n",
        "\n",
        "def error(i, exact_i):\n",
        "    return np.abs(exact_i - i)"
      ]
    },
    {
      "cell_type": "code",
      "execution_count": null,
      "metadata": {
        "id": "-DGHFmVNhY1o"
      },
      "outputs": [],
      "source": [
        "# класс Timer для определения метода с наименьшим временем вычисления\n",
        "\n",
        "class TimerError(Exception):\n",
        "    pass\n",
        "\n",
        "\n",
        "@dataclass\n",
        "class Timer:\n",
        "    timers: ClassVar[Dict[str, float]] = dict()\n",
        "    name: Optional[str] = None\n",
        "    text: str = \"Elapsed time: {:0.4f} seconds\"\n",
        "    logger: Optional[Callable[[str], None]] = print\n",
        "    _start_time: Optional[float] = field(default=None, init=False, repr=False)\n",
        "\n",
        "    def __post_init__(self):\n",
        "        if self.name:\n",
        "            self.timers.setdefault(self.name, 0)\n",
        "\n",
        "    def start(self):\n",
        "        if self._start_time is not None:\n",
        "            raise TimerError(\"Timer is running. Use .stop() to stop it.\")\n",
        "\n",
        "        self._start_time = time.perf_counter()\n",
        "\n",
        "    def stop(self):\n",
        "        if self._start_time is None:\n",
        "            raise TimerError(\"Timer is not running. Use .start() to start it.\")\n",
        "\n",
        "        elapsed_time = time.perf_counter() - self._start_time\n",
        "        self._start_time = None\n",
        "\n",
        "        if self.logger:\n",
        "            self.logger(self.text.format(elapsed_time))\n",
        "\n",
        "        if self.name:\n",
        "            self.timers[self.name] += elapsed_time\n",
        "\n",
        "        return elapsed_time"
      ]
    },
    {
      "cell_type": "markdown",
      "metadata": {
        "id": "ah4QtsD8hY1q"
      },
      "source": [
        "Формула левых прямоугольников: $$S = h \\sum_{i=0}^{n - 1} f(x_i)$$\n",
        "Остаточный член: $$R = \\frac{M_1(b-a)}{2}h$$"
      ]
    },
    {
      "cell_type": "code",
      "execution_count": null,
      "metadata": {
        "id": "dGQqE8rnhY1r"
      },
      "outputs": [],
      "source": [
        "class RectLeftError(Exception):\n",
        "    pass\n",
        "\n",
        "\n",
        "class RectLeft:\n",
        "\n",
        "    def __init__(self, left, right, h, eps, func=f):\n",
        "        self.left = left\n",
        "        self.right = right\n",
        "        self.__h = h\n",
        "        self.eps = eps\n",
        "        self.func = func\n",
        "        self.__i = None\n",
        "        self.__n = int((right - left) / h) + 1\n",
        "        self.__h = (right - left) / (self.__n - 1)\n",
        "\n",
        "    def h_eval(self):\n",
        "        x = Symbol('x')\n",
        "        # для вычисления дифференциала заданного порядка\n",
        "        lam_m = lambdify(x, diff(self.func(x), x))\n",
        "        x_data = np.linspace(self.left, self.right, 500)\n",
        "        max_m = np.max(np.abs(lam_m(x_data)))\n",
        "        try:\n",
        "            self.__h = 2 * self.eps / (max_m * (self.right - self.left))\n",
        "        except ZeroDivisionError:\n",
        "            self.__h = self.right - self.left\n",
        "\n",
        "        self.__n = int((self.right - self.left) / self.__h) + 1\n",
        "        self.__h = (self.right - self.left) / (self.__n - 1)\n",
        "\n",
        "    def eval(self):\n",
        "        self.__i = self.__h * np.sum([self.func(self.left+i*self.__h) for i in range(self.__n - 1)])\n",
        "\n",
        "    def get_h(self):\n",
        "        return self.__h\n",
        "\n",
        "    def get_i(self):\n",
        "        if self.__i:\n",
        "            return self.__i\n",
        "        else:\n",
        "            raise RectLeftError(\"The integral is not evaluated. Use .eval()\")\n",
        "\n",
        "    def get_n(self):\n",
        "        return self.__n\n",
        "\n",
        "    def show_attr(self):\n",
        "        print(f\"Rect: integral = {self.__i}, h = {self.__h}, n = {self.__n}\")"
      ]
    },
    {
      "cell_type": "markdown",
      "metadata": {
        "id": "sKiNY6NbhY1v"
      },
      "source": [
        "Формула Милна: $$S = \\frac{h}{90} \\sum_{i=1}^{n} [7f(x_{i-1}) + 32f(x_{i-1} + \\frac{h}{4}) + 12f(x_{i-0.5}) + 32f(x_i - \\frac{h}{4}) + 7f(x_i) ]$$\n",
        "Остаточный член: $$R = \\frac{M_6(b-a)}{1935360}h^6$$\n",
        "Правило Рунге: $$R^{\\frac{h}{2}} = \\frac{I^{\\frac{h}{2}} - I^h}{2^p - 1}$$"
      ]
    },
    {
      "cell_type": "code",
      "execution_count": null,
      "metadata": {
        "colab": {
          "base_uri": "https://localhost:8080/",
          "height": 374
        },
        "id": "oLCc-iWThY1y",
        "outputId": "118aef6f-60ef-4ce4-c2d6-392866057f31"
      },
      "outputs": [
        {
          "output_type": "error",
          "ename": "NameError",
          "evalue": "ignored",
          "traceback": [
            "\u001b[0;31m---------------------------------------------------------------------------\u001b[0m",
            "\u001b[0;31mNameError\u001b[0m                                 Traceback (most recent call last)",
            "\u001b[0;32m<ipython-input-1-a8334973652e>\u001b[0m in \u001b[0;36m<module>\u001b[0;34m()\u001b[0m\n\u001b[1;32m      3\u001b[0m \u001b[0;34m\u001b[0m\u001b[0m\n\u001b[1;32m      4\u001b[0m \u001b[0;34m\u001b[0m\u001b[0m\n\u001b[0;32m----> 5\u001b[0;31m \u001b[0;32mclass\u001b[0m \u001b[0mNewtonCotes\u001b[0m\u001b[0;34m:\u001b[0m\u001b[0;34m\u001b[0m\u001b[0;34m\u001b[0m\u001b[0m\n\u001b[0m\u001b[1;32m      6\u001b[0m \u001b[0;34m\u001b[0m\u001b[0m\n\u001b[1;32m      7\u001b[0m     \u001b[0;32mdef\u001b[0m \u001b[0m__init__\u001b[0m\u001b[0;34m(\u001b[0m\u001b[0mself\u001b[0m\u001b[0;34m,\u001b[0m \u001b[0mleft\u001b[0m\u001b[0;34m,\u001b[0m \u001b[0mright\u001b[0m\u001b[0;34m,\u001b[0m \u001b[0mh\u001b[0m\u001b[0;34m,\u001b[0m \u001b[0meps\u001b[0m\u001b[0;34m,\u001b[0m \u001b[0mm\u001b[0m\u001b[0;34m=\u001b[0m\u001b[0;36m4\u001b[0m\u001b[0;34m,\u001b[0m \u001b[0mfunc\u001b[0m\u001b[0;34m=\u001b[0m\u001b[0mf\u001b[0m\u001b[0;34m)\u001b[0m\u001b[0;34m:\u001b[0m\u001b[0;34m\u001b[0m\u001b[0;34m\u001b[0m\u001b[0m\n",
            "\u001b[0;32m<ipython-input-1-a8334973652e>\u001b[0m in \u001b[0;36mNewtonCotes\u001b[0;34m()\u001b[0m\n\u001b[1;32m      5\u001b[0m \u001b[0;32mclass\u001b[0m \u001b[0mNewtonCotes\u001b[0m\u001b[0;34m:\u001b[0m\u001b[0;34m\u001b[0m\u001b[0;34m\u001b[0m\u001b[0m\n\u001b[1;32m      6\u001b[0m \u001b[0;34m\u001b[0m\u001b[0m\n\u001b[0;32m----> 7\u001b[0;31m     \u001b[0;32mdef\u001b[0m \u001b[0m__init__\u001b[0m\u001b[0;34m(\u001b[0m\u001b[0mself\u001b[0m\u001b[0;34m,\u001b[0m \u001b[0mleft\u001b[0m\u001b[0;34m,\u001b[0m \u001b[0mright\u001b[0m\u001b[0;34m,\u001b[0m \u001b[0mh\u001b[0m\u001b[0;34m,\u001b[0m \u001b[0meps\u001b[0m\u001b[0;34m,\u001b[0m \u001b[0mm\u001b[0m\u001b[0;34m=\u001b[0m\u001b[0;36m4\u001b[0m\u001b[0;34m,\u001b[0m \u001b[0mfunc\u001b[0m\u001b[0;34m=\u001b[0m\u001b[0mf\u001b[0m\u001b[0;34m)\u001b[0m\u001b[0;34m:\u001b[0m\u001b[0;34m\u001b[0m\u001b[0;34m\u001b[0m\u001b[0m\n\u001b[0m\u001b[1;32m      8\u001b[0m         \u001b[0;32mif\u001b[0m \u001b[0mm\u001b[0m \u001b[0;32mnot\u001b[0m \u001b[0;32min\u001b[0m \u001b[0;34m(\u001b[0m\u001b[0;36m1\u001b[0m\u001b[0;34m,\u001b[0m \u001b[0;36m2\u001b[0m\u001b[0;34m,\u001b[0m \u001b[0;36m3\u001b[0m\u001b[0;34m,\u001b[0m \u001b[0;36m4\u001b[0m\u001b[0;34m,\u001b[0m \u001b[0;36m5\u001b[0m\u001b[0;34m,\u001b[0m \u001b[0;36m6\u001b[0m\u001b[0;34m)\u001b[0m\u001b[0;34m:\u001b[0m\u001b[0;34m\u001b[0m\u001b[0;34m\u001b[0m\u001b[0m\n\u001b[1;32m      9\u001b[0m             \u001b[0;32mraise\u001b[0m \u001b[0mNewtonCotesError\u001b[0m\u001b[0;34m(\u001b[0m\u001b[0;34m\"degree of polynomial - m is not in (1, 2, 3, 4, 5, 6)\"\u001b[0m\u001b[0;34m)\u001b[0m\u001b[0;34m\u001b[0m\u001b[0;34m\u001b[0m\u001b[0m\n",
            "\u001b[0;31mNameError\u001b[0m: name 'f' is not defined"
          ]
        }
      ],
      "source": [
        "class NewtonCotesError(Exception):\n",
        "    pass\n",
        "\n",
        "\n",
        "class NewtonCotes:\n",
        "    \"\"\"Методы Ньютона-Котеса являются интерполяционными квадратурными формулами\"\"\"\n",
        "\n",
        "    def __init__(self, left, right, h, eps, m=4, func=f):\n",
        "        if m not in (1, 2, 3, 4, 5, 6):\n",
        "            raise NewtonCotesError(\"degree of polynomial - m is not in (1, 2, 3, 4, 5, 6)\")\n",
        "        self.left = left\n",
        "        self.right = right\n",
        "        self.__h = h\n",
        "        self.eps = eps\n",
        "        self.m = m\n",
        "        self.func = func\n",
        "        self.__i = None\n",
        "        self.__n = int((right - left) / h) + 1\n",
        "        self.__h = (right - left) / (self.__n - 1)\n",
        "\n",
        "        self.elem_int = {\n",
        "            1: lambda i, x: self.__h / 2 * (self.func(x[i - 1]) + self.func(x[i])),\n",
        "            2: lambda i   : self.__h / 6 * (self.func(self.left + (i-1)*self.__h) + 4 * self.func(self.left + i*self.__h - self.__h / 2) + self.func(self.left + i*self.__h)),\n",
        "            4: lambda i   : self.__h / 90 * (7 * self.func(self.left + (i-1)*self.__h) + 32 * self.func(self.left + (i-1)*self.__h + self.__h / 4) +\n",
        "                                             12 * self.func(self.left + i*self.__h - self.__h / 2) + 32 * self.func(self.left + i*self.__h - self.__h / 4) +\n",
        "                                             7 * self.func(self.left + i*self.__h))\n",
        "        }\n",
        "\n",
        "        self.formula_name = {\n",
        "            1: \"Trapezoid\",\n",
        "            2: \"Simpson\",\n",
        "            3: \"3/8\",\n",
        "            4: \"Milne\",\n",
        "            5: \"fifth_degree\",\n",
        "            6: \"Waddle\"\n",
        "        }\n",
        "\n",
        "        self.error_coeff = {\n",
        "            1: 1 / 12,\n",
        "            2: 1 / 2880,\n",
        "            3: 1 / 6480,\n",
        "            4: 1 / 1935360,\n",
        "            5: 1 / 37800000,\n",
        "            6: 1 / 1567561600\n",
        "        }\n",
        "\n",
        "        self.degree = {\n",
        "            1: 2,\n",
        "            2: 4,\n",
        "            3: 4,\n",
        "            4: 6,\n",
        "            5: 6,\n",
        "            6: 8\n",
        "        }\n",
        "\n",
        "    def h_eval(self):\n",
        "        x = Symbol('x')\n",
        "        lam_m = lambdify(x, diff(self.func(x), x, self.degree[self.m]))\n",
        "        x_data = np.linspace(self.left, self.right, 500)\n",
        "        max_m = np.max(np.abs(lam_m(x_data)))\n",
        "        if max_m != 0:\n",
        "            self.__h = np.power(self.eps / (self.error_coeff[self.m] * max_m * (self.right - self.left)),\n",
        "                                1 / self.degree[self.m])\n",
        "        else:\n",
        "            self.__h = self.right - self.left\n",
        "\n",
        "        self.__n = int((self.right - self.left) / self.__h) + 1\n",
        "        self.__h = (self.right - self.left) / (self.__n - 1)\n",
        "\n",
        "\n",
        "    def get_h(self):\n",
        "        return self.__h\n",
        "\n",
        "    def get_i(self):\n",
        "        if self.__i:\n",
        "            return self.__i\n",
        "        else:\n",
        "            raise NewtonCotesError(\"The integral is not evaluated. Use .eval()\")\n",
        "\n",
        "    def get_n(self):\n",
        "        return self.__n\n",
        "\n",
        "    def eval(self):\n",
        "        self.__i = np.sum([self.elem_int[self.m](i) for i in range(1, self.__n)])\n",
        "\n",
        "    def Runge(self):\n",
        "        self.eval()\n",
        "        integral = self.__i\n",
        "        while True:\n",
        "            self.__n *= 2\n",
        "            self.__h = (self.right - self.left) / (self.__n - 1)\n",
        "            self.eval()\n",
        "            integral_half = self.__i\n",
        "            if np.abs(integral - integral_half) / (2 ** self.degree[self.m] - 1) <= self.eps:\n",
        "                break\n",
        "            integral = integral_half\n",
        "        self.__i = integral_half\n",
        "\n",
        "\n",
        "\n",
        "    def show_attr(self):\n",
        "        print(f\"{self.formula_name[self.m]}: integral = {self.__i}, h = {self.__h}, n = {self.__n}\")"
      ]
    },
    {
      "cell_type": "markdown",
      "metadata": {
        "id": "yoJ-yBLghY11"
      },
      "source": [
        "Квдратурная формула Гаусса: $$\\int_{a}^{b} f(x) \\,dx \\approx \\frac{b-a}{2}\\sum_{i=0}^{N} a_i f[\\frac{a+b}{2} + \\frac{b-a}{2}t_i]$$\n",
        "Точна для многочленов степени m = 2N + 1. N + 1 - число узлов квадратуры. Данная подынтегральный полином имеет степень m = 5. Следовательнос, берем число узлов N + 1 = 3"
      ]
    },
    {
      "cell_type": "code",
      "execution_count": null,
      "metadata": {
        "id": "BG3Yltr5hY12"
      },
      "outputs": [],
      "source": [
        "class GaussError(Exception):\n",
        "    pass\n",
        "\n",
        "\n",
        "class Gauss:\n",
        "    def __init__(self, left, right, n, func=f):\n",
        "        if n not in (1, 2, 3, 4, 5, 6):\n",
        "            raise GaussError(\"count of root - N is not in (1, 2, 3, 4, 5, 6)\")\n",
        "        self.left = left\n",
        "        self.right = right\n",
        "        self.n = n\n",
        "        self.func = func\n",
        "        self.__i = None\n",
        "\n",
        "        self.root_weight = {\n",
        "            # узлы и веса квадратурной формулы Гаусса\n",
        "            # с числом узлов от 1 до 5\n",
        "            # количество узлов : [t, a]\n",
        "            1: np.array([[0.0],\n",
        "                         [2.0]]),\n",
        "            2: np.array([[-0.5773502691896258, 0.5773502691896258],\n",
        "                         [1.0, 1.0]]),\n",
        "            3: np.array([[-0.7745966692414834, 0.0, 0.7745966692414834],\n",
        "                         [0.5555555555555556, 0.8888888888888888, 0.5555555555555556]]),\n",
        "            4: np.array([[-0.8611363115940526, -0.3399810435848562, 0.3399810435848562, 0.8611363115940526],\n",
        "                         [0.34785484513745385, 0.6521451548625461, 0.6521451548625461, 0.34785484513745385]]),\n",
        "            5: np.array([[-0.9061798459386641, -0.5384693101056831, 0.0, 0.5384693101056831, 0.9061798459386641],\n",
        "                         [0.23692688505618906, 0.4786286704993664, 0.5688888888888889, 0.4786286704993664, 0.23692688505618906]]),\n",
        "        }\n",
        "\n",
        "    def eval(self):\n",
        "        self.__i = (self.right - self.left) / 2 * \\\n",
        "                   np.sum([self.root_weight[self.n][1][i] *\n",
        "                           self.func((self.right + self.left) / 2 +\n",
        "                                     (self.left - self.right) / 2 * self.root_weight[self.n][0][i])\n",
        "                           for i in range(self.n)])\n",
        "\n",
        "    def get_i(self):\n",
        "        if self.__i:\n",
        "            return self.__i\n",
        "        else:\n",
        "            raise GaussError(\"The integral is not evaluated. Use .eval()\")\n",
        "\n",
        "    def show_attr(self):\n",
        "        print(f\"Gauss: integral = {self.__i}, N = {self.n}\")\n"
      ]
    },
    {
      "cell_type": "code",
      "execution_count": null,
      "metadata": {
        "id": "9yBdcnNIhY14"
      },
      "outputs": [],
      "source": [
        "a = 1.\n",
        "b = 3.\n",
        "eps = 1e-2\n",
        "h = 0.5\n",
        "N = 3"
      ]
    },
    {
      "cell_type": "code",
      "execution_count": null,
      "metadata": {
        "id": "LhOrfmi8hY15",
        "outputId": "76ef735c-319e-411c-e5cf-9566e27241bc"
      },
      "outputs": [
        {
          "data": {
            "image/png": "[encoded data removed]",
            "text/plain": [
              "<Figure size 432x288 with 1 Axes>"
            ]
          },
          "metadata": {
            "needs_background": "light"
          },
          "output_type": "display_data"
        }
      ],
      "source": [
        "fig, axs = plt.subplots()\n",
        "x_data = np.linspace(a, b, 500)\n",
        "axs.plot(x_data, f(x_data))\n",
        "axs.grid()"
      ]
    },
    {
      "cell_type": "code",
      "execution_count": null,
      "metadata": {
        "id": "IaQLuO93hY18",
        "outputId": "8abe4501-f6a5-4d11-d0f4-1ad81bee2149"
      },
      "outputs": [
        {
          "data": {
            "text/plain": [
              "0.00012400000014167745"
            ]
          },
          "execution_count": 116,
          "metadata": {},
          "output_type": "execute_result"
        }
      ],
      "source": [
        "# метод левых прямоугольников\n",
        "t = Timer(\"RectLeft\", logger=None)\n",
        "rect = RectLeft(a, b, h, eps)\n",
        "t.start()\n",
        "rect.h_eval()\n",
        "rect.eval()\n",
        "t.stop()\n",
        "\n",
        "# метод Ньютона-Котеса\n",
        "t = Timer(\"NC\", logger=None)\n",
        "nc = NewtonCotes(a, b, h, eps, m=4)\n",
        "t.start()\n",
        "nc.h_eval()\n",
        "nc.eval()\n",
        "t.stop()\n",
        "\n",
        "\n",
        "# метод Гаусса\n",
        "t = Timer(\"Gauss\", logger=None)\n",
        "gauss = Gauss(a, b, N)\n",
        "t.start()\n",
        "gauss.eval()\n",
        "t.stop()"
      ]
    },
    {
      "cell_type": "code",
      "execution_count": null,
      "metadata": {
        "id": "9Mif9OsYhY1-",
        "outputId": "423768cb-ace8-420b-98a9-03508a32c7bd"
      },
      "outputs": [
        {
          "name": "stdout",
          "output_type": "stream",
          "text": [
            "Точное значение:  -429.04\n",
            "Rect: integral = -429.03709703893315, h = 6.696578048617156e-06, n = 298661\n",
            "Milne: integral = -429.04, h = 2.0, n = 2\n",
            "Gauss: integral = -429.04, N = 3\n",
            "rect_err = 0.002902961066865828, nc_err = 0.0, gauss_err = 0.0\n",
            "{'RectLeft': 0.36026849999961996, 'NC': 0.001481700000113051, 'Gauss': 0.00012400000014167745}\n"
          ]
        }
      ],
      "source": [
        "# аналитическое решение интеграла и погрешности\n",
        "# integral = int_f(a, b)\n",
        "integral = -429.04\n",
        "rect_err, nc_err, gauss_err = map(lambda i: error(i, integral), \n",
        "                                  [rect.get_i(), nc.get_i(), gauss.get_i()])\n",
        "\n",
        "print(\"Точное значение: \", integral)\n",
        "rect.show_attr()\n",
        "nc.show_attr()\n",
        "gauss.show_attr()\n",
        "print(f\"{rect_err = }, {nc_err = }, {gauss_err = }\")\n",
        "\n",
        "print(Timer.timers)\n",
        "Timer.timers.clear()"
      ]
    },
    {
      "cell_type": "markdown",
      "metadata": {
        "id": "nvhvHqlkhY2B"
      },
      "source": [
        "\n",
        "\n",
        "|Точное значение |-429.04 |            |            |        |\n",
        "|----------------|----------|-------------|------------||\n",
        "|Метод левых прямоугольников |-429.037 | h = 6.67e-06 | n = 298661 |err = 0.003 |\n",
        "Метод Милна|429.04  |  h = 2.0  | n = 2| err = 0.0 |\n",
        "Метод Гаусса| -429.04|     |  N = 3|err = 0.0  |\n",
        "\n"
      ]
    },
    {
      "cell_type": "markdown",
      "metadata": {
        "id": "Nrkt1PEohY2C"
      },
      "source": [
        "# Задание 5.2\n",
        "$$f(x) = 4 sin(2^x)$$\n",
        "$$[a, b] = [-4, 0]$$\n",
        "$$eps = 10^{-12}$$"
      ]
    },
    {
      "cell_type": "code",
      "execution_count": null,
      "metadata": {
        "id": "cN_EvhOZhY2D"
      },
      "outputs": [],
      "source": [
        "a, b, eps = -4, 0, 1e-12\n",
        "h = 0.5\n",
        "\n",
        "def ff(x):\n",
        "    return 4 * np.sin(2**x)"
      ]
    },
    {
      "cell_type": "markdown",
      "metadata": {
        "id": "jr4x6eH-hY2F"
      },
      "source": [
        "Уточнение по Рунге: $$I \\approx I^{\\frac{h}{2}} + \\frac{I^{\\frac{h}{2}} - I^h}{2^p - 1},$$ где p - порядок точности формулы"
      ]
    },
    {
      "cell_type": "code",
      "execution_count": null,
      "metadata": {
        "id": "ISGFTnP-hY2I"
      },
      "outputs": [],
      "source": [
        "def Runge_refinement(nc):\n",
        "    nc_double = NewtonCotes(-4, 0, 2 * nc.get_h(), 1e-12, func=ff)\n",
        "    nc_double.eval()\n",
        "    return nc.get_i() + (nc.get_i() - nc_double.get_i()) / (2 ** 6 - 1), nc_double.get_i()"
      ]
    },
    {
      "cell_type": "code",
      "execution_count": null,
      "metadata": {
        "id": "5HKzNmjMhY2J",
        "outputId": "f3459de9-f407-44b4-e832-e3c5e5d4328f"
      },
      "outputs": [
        {
          "data": {
            "image/png": "[encoded data removed]",
            "text/plain": [
              "<Figure size 432x288 with 1 Axes>"
            ]
          },
          "metadata": {
            "needs_background": "light"
          },
          "output_type": "display_data"
        }
      ],
      "source": [
        "fig, axs = plt.subplots()\n",
        "x_data = np.linspace(a, b, 500)\n",
        "axs.plot(x_data, ff(x_data))\n",
        "axs.grid()"
      ]
    },
    {
      "cell_type": "code",
      "execution_count": null,
      "metadata": {
        "id": "QSy-IzUchY2K",
        "outputId": "151220c6-2366-485a-e86f-d6f633ac846a"
      },
      "outputs": [
        {
          "name": "stdout",
          "output_type": "stream",
          "text": [
            "integral = 5.099041917372243\n",
            "err = 1.2434497875801753e-14\n"
          ]
        }
      ],
      "source": [
        "# точное значение интеграла\n",
        "t = Timer(\"Gauss\", logger=None)\n",
        "t.start()\n",
        "integral, err = integrate.quadrature(ff, a, b, tol=1e-14, rtol=1e-14)\n",
        "t.stop()\n",
        "print(f\"{integral = }\")\n",
        "print(f\"{err = }\")"
      ]
    },
    {
      "cell_type": "code",
      "execution_count": null,
      "metadata": {
        "id": "y7aAy-SAhY2M",
        "outputId": "2b9fc296-0b7f-4ee3-ffde-dca89350c96b"
      },
      "outputs": [
        {
          "name": "stdout",
          "output_type": "stream",
          "text": [
            "Milne: integral = 5.099041917372067, h = 0.056338028169014086, n = 72\n",
            "I_h2:  integral = 5.099041917359926\n",
            "Runge: integral = 5.09904191737226\n",
            "С удвоенным шагом    1.2316370145981637e-11\n",
            "С заданной точностью 1.758593271006248e-13\n",
            "Уточнение по Рунге   1.687538997430238e-14\n",
            "Timer:  {'Gauss': 0.0004073000000062166, 'Milne': 0.00192109999989043}\n"
          ]
        }
      ],
      "source": [
        "m = NewtonCotes(a, b, h, eps, m=4, func=ff)\n",
        "t = Timer(\"Milne\", logger=None)\n",
        "t.start()\n",
        "m.Runge()\n",
        "t.stop()\n",
        "m.show_attr()\n",
        "\n",
        "m_runge, m_h2 = Runge_refinement(m)\n",
        "print(f\"I_h2:  integral = {m_h2}\")\n",
        "print(f\"Runge: integral = {m_runge}\")\n",
        "\n",
        "print(\"С удвоенным шагом   \", np.abs(integral - m_h2))\n",
        "print(\"С заданной точностью\", np.abs(integral - m.get_i()))\n",
        "print(\"Уточнение по Рунге  \", np.abs(integral - m_runge))\n",
        "\n",
        "print(\"Timer: \", Timer.timers)\n",
        "Timer.timers.clear()"
      ]
    },
    {
      "cell_type": "markdown",
      "metadata": {
        "id": "4BTzSdtdhY2O"
      },
      "source": [
        "||значение интеграла|шаг|количество узлов|погрешность|\n",
        "|-|-----------------|----------|-------|----------------------------|\n",
        "|I|5.099041917372243| | |err=1.24e-14|\n",
        "|$I^h$|5.099041917372067|h = 0.056 | n = 72| err = 1.76e-13|\n",
        "|$I^{2h}$|5.099041917359926| h = 0.112| n = 144|err = 1.23e-11|\n",
        "|Уточнение по Рунге|5.09904191737226| | |err = 1.69e-14|\n",
        "\n",
        "\n"
      ]
    },
    {
      "cell_type": "code",
      "execution_count": null,
      "metadata": {
        "id": "SyOIJ12mhY2P"
      },
      "outputs": [],
      "source": [
        ""
      ]
    }
  ],
  "metadata": {
    "kernelspec": {
      "display_name": "Python 3",
      "language": "python",
      "name": "python3"
    },
    "language_info": {
      "codemirror_mode": {
        "name": "ipython",
        "version": 3
      },
      "file_extension": ".py",
      "mimetype": "text/x-python",
      "name": "python",
      "nbconvert_exporter": "python",
      "pygments_lexer": "ipython3",
      "version": "3.8.5"
    },
    "colab": {
      "name": "LAB5.ipynb",
      "provenance": [],
      "collapsed_sections": []
    }
  },
  "nbformat": 4,
  "nbformat_minor": 0
}