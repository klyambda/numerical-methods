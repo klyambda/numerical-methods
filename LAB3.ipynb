{
 "cells": [
  {
   "cell_type": "code",
   "execution_count": 2,
   "metadata": {},
   "outputs": [],
   "source": [
    "import numpy as np\n",
    "import matplotlib.pyplot as plt\n",
    "from scipy import linalg"
   ]
  },
  {
   "cell_type": "markdown",
   "metadata": {},
   "source": [
    "# Задание 3.1\n",
    "N = 33, K = 2,\n",
    "(N+K)mod2 = 1,\n",
    "(N+K)mod4 = 3."
   ]
  },
  {
   "cell_type": "code",
   "execution_count": 4,
   "metadata": {},
   "outputs": [
    {
     "data": {
      "text/plain": [
       "array([[0.09966866, 0.19739556, 0.29145679, 0.38050638, 0.46364761],\n",
       "       [0.83298127, 0.87605805, 0.9151007 , 0.95054684, 0.98279372],\n",
       "       [1.12637712, 1.14416883, 1.16066899, 1.17600521, 1.19028995],\n",
       "       [1.25875421, 1.26791146, 1.27656176, 1.28474489, 1.29249667],\n",
       "       [1.33156473, 1.33705315, 1.34229969, 1.34731973, 1.35212738]])"
      ]
     },
     "execution_count": 4,
     "metadata": {},
     "output_type": "execute_result"
    }
   ],
   "source": [
    "N = 33\n",
    "n = 5\n",
    "# A точное\n",
    "A_def = np.array([[(np.arctan(0.1 * (10*i + j + 1))) for j in range(n)] for i in range(n)])\n",
    "\n",
    "# x точное\n",
    "x_def = np.array([N] * n)\n",
    "\n",
    "# вектор b\n",
    "b = A_def @ x_def\n",
    "\n",
    "# возмущенная матрица A*\n",
    "A = np.copy(A_def)\n",
    "A[0][0] += 10**-8\n",
    "A"
   ]
  },
  {
   "cell_type": "code",
   "execution_count": 5,
   "metadata": {},
   "outputs": [],
   "source": [
    "def solve(A, b):\n",
    "    A = np.copy(A)\n",
    "    n = len(A)\n",
    "    for k in range(n):\n",
    "        for i in range(k+1, n):\n",
    "            A[i][k] = A[i][k] / A[k][k]\n",
    "            for j in range(k+1, n):\n",
    "                A[i][j] = A[i][j] - A[i][k]*A[k][j]\n",
    "    x = np.zeros(n)\n",
    "    y = np.zeros(n)\n",
    "    \n",
    "    for i in range(n):\n",
    "        y[i] = b[i] - np.sum([A[i][j]*y[j] for j in range(i)])\n",
    "    for i in range(n-1, -1, -1):\n",
    "        x[i] = (y[i] - np.sum([x[j]*A[i][j] for j in range(n-1, i-1, -1)]))/A[i][i]\n",
    "    \n",
    "    return x        "
   ]
  },
  {
   "cell_type": "code",
   "execution_count": 6,
   "metadata": {},
   "outputs": [],
   "source": [
    "def LUP_decomposition(A):\n",
    "    n = len(A)\n",
    "    L = np.eye(n)\n",
    "    U = np.copy(A)\n",
    "    P = np.eye(n)\n",
    "    for k in range(n-1):\n",
    "        L_k = np.eye(n)\n",
    "        U_k = np.eye(n)\n",
    "        P_k = np.eye(n)\n",
    "        max_elem = U[k][k].copy()\n",
    "        i_max = k\n",
    "        for i in range(k+1, n):\n",
    "            if abs(max_elem) < abs(U[i][k]):\n",
    "                max_elem = U[i][k].copy()\n",
    "                i_max = i\n",
    "        P_k[i_max], P_k[k] = np.copy(P_k[k]), np.copy(P_k[i_max])\n",
    "        U = P_k @ U\n",
    "        \n",
    "        for i in range(k+1, n):\n",
    "            c = U[i][k]/U[k][k]\n",
    "            U_k[i][k] = -c\n",
    "            L_k[i][k] = c\n",
    "        L = L @ P_k @ L_k\n",
    "        U = U_k @ U\n",
    "        P = P_k @ P\n",
    "    L = P @ L\n",
    "    return (L, U, P)\n",
    "\n",
    "def LUP_solve(L, U, P, b):\n",
    "    b = P @ b\n",
    "    n = len(L)\n",
    "    x = np.zeros(n)\n",
    "    y = np.zeros(n)\n",
    "    \n",
    "    for i in range(n):\n",
    "        y[i] = b[i] - np.sum([L[i][j]*y[j] for j in range(i)])\n",
    "    for i in range(n-1, -1, -1):\n",
    "        x[i] = (y[i] - np.sum([x[j] * U[i][j] for j in range(n-1, i-1, -1)]))/U[i][i]\n",
    "    \n",
    "    return x"
   ]
  },
  {
   "cell_type": "code",
   "execution_count": 7,
   "metadata": {},
   "outputs": [
    {
     "name": "stdout",
     "output_type": "stream",
     "text": [
      "1-ый метод: [1. 1. 1.]\n",
      "2-ой метод: [1. 1. 1.]\n",
      "Встроенный метод: [1. 1. 1.]\n",
      "Точное решение: [1 1 1]\n"
     ]
    }
   ],
   "source": [
    "A_check = np.array([[4, 1, 1], [2, 5.5, 1], [2, 1, 4]])\n",
    "x_check = np.array([1]*3)\n",
    "b_check = A_check @ x_check\n",
    "\n",
    "x1_check = solve(A_check, b_check)\n",
    "print('1-ый метод:', x1_check)\n",
    "\n",
    "L_check, U_check, P_check = LUP_decomposition(A_check)\n",
    "x2_check = LUP_solve(L_check, U_check, P_check, b_check)\n",
    "print('2-ой метод:', x2_check)\n",
    "\n",
    "x3_check = linalg.solve(A_check, b_check)\n",
    "print('Встроенный метод:', x3_check)\n",
    "\n",
    "print('Точное решение:', x_check)\n",
    "\n",
    "\n",
    "\n"
   ]
  },
  {
   "cell_type": "code",
   "execution_count": 8,
   "metadata": {},
   "outputs": [
    {
     "name": "stdout",
     "output_type": "stream",
     "text": [
      "1-ый метод:  [33.00026739 32.99861084 33.0026199  32.99785607 33.0006458 ]\n",
      "2-ой метод:  [33.00026741 32.99861075 33.00262004 32.99785597 33.00064583]\n",
      "Встроенный метод: [33.00026738 32.99861086 33.00261986 32.9978561  33.0006458 ]\n"
     ]
    }
   ],
   "source": [
    "x1 = solve(A, b)\n",
    "L, U, P = LUP_decomposition(A)\n",
    "x2 = LUP_solve(L, U, P, b)\n",
    "\n",
    "print('1-ый метод: ', x1)\n",
    "print('2-ой метод: ', x2)\n",
    "print('Встроенный метод:', linalg.solve(A,b))"
   ]
  },
  {
   "cell_type": "code",
   "execution_count": 9,
   "metadata": {},
   "outputs": [],
   "source": [
    "# евклидова норма\n",
    "# погрешность delta x\n",
    "def delta_x(x, x_def):\n",
    "    return linalg.norm(x-x_def, ord=2)/linalg.norm(x, ord=2)\n",
    "\n",
    "# оценка погрешности delta x\n",
    "def score_delta_x(A):\n",
    "    return np.linalg.cond(A) * (10**-3 / linalg.norm(A, ord=2)) "
   ]
  },
  {
   "cell_type": "code",
   "execution_count": 10,
   "metadata": {},
   "outputs": [
    {
     "name": "stdout",
     "output_type": "stream",
     "text": [
      "Число обусловленности:  56410634.477381\n",
      "Погрешность решения:  5.048636080019752e-05\n",
      "Оценка погрешности:  10575.747732964846\n"
     ]
    }
   ],
   "source": [
    "# Число обусловленности матрицы A\n",
    "print('Число обусловленности: ', np.linalg.cond(A))\n",
    "print('Погрешность решения: ', delta_x(x1, x_def))\n",
    "print('Оценка погрешности: ', score_delta_x(A))"
   ]
  },
  {
   "cell_type": "code",
   "execution_count": 11,
   "metadata": {},
   "outputs": [
    {
     "name": "stderr",
     "output_type": "stream",
     "text": [
      "<ipython-input-11-8651720ed71f>:23: LinAlgWarning: Ill-conditioned matrix (rcond=1.56072e-18): result may not be accurate.\n",
      "  x3 = linalg.solve(A, b)\n",
      "<ipython-input-11-8651720ed71f>:23: LinAlgWarning: Ill-conditioned matrix (rcond=2.03865e-18): result may not be accurate.\n",
      "  x3 = linalg.solve(A, b)\n",
      "<ipython-input-11-8651720ed71f>:23: LinAlgWarning: Ill-conditioned matrix (rcond=2.62393e-18): result may not be accurate.\n",
      "  x3 = linalg.solve(A, b)\n",
      "<ipython-input-11-8651720ed71f>:23: LinAlgWarning: Ill-conditioned matrix (rcond=7.21121e-19): result may not be accurate.\n",
      "  x3 = linalg.solve(A, b)\n",
      "<ipython-input-11-8651720ed71f>:23: LinAlgWarning: Ill-conditioned matrix (rcond=9.29048e-19): result may not be accurate.\n",
      "  x3 = linalg.solve(A, b)\n",
      "<ipython-input-11-8651720ed71f>:23: LinAlgWarning: Ill-conditioned matrix (rcond=8.26485e-20): result may not be accurate.\n",
      "  x3 = linalg.solve(A, b)\n"
     ]
    }
   ],
   "source": [
    "# погрешности решений обоих методов как функций, зависящих от n\n",
    "delta_x1 = []\n",
    "delta_x2 = []\n",
    "delta_x3 = []\n",
    "\n",
    "# Решение системы обоими методами для матрицы размера n = 5..15\n",
    "for n in range(5, 16):\n",
    "    A_def = np.array([[(\n",
    "        np.arctan(0.1 * (10*i + j + 1))) \n",
    "        for j in range(n)] \n",
    "        for i in range(n)] )\n",
    "    x_def = np.array([N] * n)\n",
    "    b = A_def @ x_def\n",
    "    A = np.copy(A_def)\n",
    "    # A[0][0] += 10**-8\n",
    "    # 1-ый метод\n",
    "    x1 = solve(A, b)\n",
    "    # 2-ой метод\n",
    "    L, U, P = LUP_decomposition(A)\n",
    "    x2 = LUP_solve(L, U, P, b)\n",
    "    \n",
    "    # Встроенный метод\n",
    "    x3 = linalg.solve(A, b)\n",
    "    delta_x1.append(delta_x(x1, x_def))\n",
    "    delta_x2.append(delta_x(x2, x_def))\n",
    "    delta_x3.append(delta_x(x3, x_def))"
   ]
  },
  {
   "cell_type": "code",
   "execution_count": 12,
   "metadata": {},
   "outputs": [
    {
     "data": {
      "text/plain": [
       "<matplotlib.legend.Legend at 0x1dfd3ca8820>"
      ]
     },
     "execution_count": 12,
     "metadata": {},
     "output_type": "execute_result"
    },
    {
     "data": {
      "image/png": "[encoded data removed]",
      "text/plain": [
       "<Figure size 1080x360 with 3 Axes>"
      ]
     },
     "metadata": {
      "needs_background": "light"
     },
     "output_type": "display_data"
    }
   ],
   "source": [
    "fig, axs = plt.subplots(1, 3, figsize=(15,5))\n",
    "\n",
    "# строим графики\n",
    "axs[0].plot(range(5,16), delta_x1, color='c', ls='-', label='1-ый метод')\n",
    "axs[1].plot(range(5,16), delta_x2, color='b', ls='-', label='2-ой метод')\n",
    "axs[2].plot(range(5,16), delta_x3, color='m', ls='-', label='Встроенный метод')\n",
    "\n",
    "axs[0].legend()\n",
    "axs[1].legend()\n",
    "axs[2].legend()"
   ]
  },
  {
   "cell_type": "markdown",
   "metadata": {},
   "source": [
    "# Задание 3.2"
   ]
  },
  {
   "cell_type": "code",
   "execution_count": 21,
   "metadata": {},
   "outputs": [],
   "source": [
    "n = 65\n",
    "a = 87\n",
    "d = 30\n",
    "c = 4\n",
    "b = np.array([n*i + n for i in range(n)])"
   ]
  },
  {
   "cell_type": "code",
   "execution_count": 22,
   "metadata": {},
   "outputs": [],
   "source": [
    "def second_task(a,c,d, b):\n",
    "    x = np.zeros(n)\n",
    "    for i in range(2,10):\n",
    "        alpha = np.zeros(5)\n",
    "        beta  = np.zeros(5)\n",
    "        alpha[0] = b[46+i]/c\n",
    "        beta[0] = -a/c\n",
    "        alpha[1] = b[66-i]/c\n",
    "        beta[1] = -a/c\n",
    "        alpha[2] = (b[i] - a*alpha[1])/(a*beta[1] + c)\n",
    "        beta[2] = -d/(a*beta[1] + c)\n",
    "        alpha[3] = (b[20-i] - a*alpha[0])/(a*beta[0] + c)\n",
    "        beta[3] = -d/(a*beta[0] + c)\n",
    "        alpha[4] = (b[23+i] - d*alpha[3])/(d*beta[3] + c)\n",
    "        beta[4] = -a/(d*beta[3] + c)\n",
    "        \n",
    "        x[i+23] = (b[43-i] - a*alpha[4] - d*alpha[2])/(a*beta[4] + d*beta[2] + c)\n",
    "        x[43-i] = alpha[4] + beta[4]*x[i+23]\n",
    "        x[46+i] = alpha[3] + beta[3]*x[43-i]\n",
    "        x[66-i] = alpha[2] + beta[2]*x[i+23]\n",
    "        x[i] = alpha[1] + beta[1]*x[66-i]\n",
    "        x[20-i] = alpha[0] + beta[0]*x[46+i]\n",
    "    for i in range(19,22):\n",
    "        alpha = np.zeros(5)\n",
    "        beta  = np.zeros(5)\n",
    "        alpha[0] = b[i+23]/a\n",
    "        beta[0] = -c/a\n",
    "        alpha[1] = b[66-i]/a\n",
    "        beta[1] = -c/a\n",
    "        alpha[2] = (b[i] - d*alpha[0] - c*alpha[1])/(a+c*beta[1])\n",
    "        beta[2] = -d*beta[0]/(a+c*beta[1])\n",
    "        \n",
    "        x[43-i] = (b[43-i] - d*alpha[1] - d*beta[1] - c*alpha[0])/(a + d*beta[1]*beta[2] + c*beta[0])\n",
    "        x[i] = alpha[2] + beta[2]*x[43-i]\n",
    "        x[66-i] = alpha[1] + beta[1]*x[i]\n",
    "        x[i+23] = alpha[0] + beta[0]*x[43-i]\n",
    "    alpha = np.zeros(2)\n",
    "    beta = np.zeros(2)\n",
    "    alpha[0] = b[56]/c\n",
    "    beta[0] = -a/c\n",
    "    alpha[1] = b[33]/a\n",
    "    beta[1] = -d/a\n",
    "    x[56] = (b[10] - a*alpha[0] - d*alpha[1])/(a*beta[0] + d*beta[1] + c)\n",
    "    x[33] = alpha[1] + beta[1]*x[56]\n",
    "    x[10] = alpha[0] + beta[0]*x[56]\n",
    "    x[0] = (b[0] - d*x[23])/a\n",
    "    x[1] = (b[1] - d*x[24])/a\n",
    "    \n",
    "    return x\n",
    "       \n",
    "        "
   ]
  },
  {
   "cell_type": "code",
   "execution_count": 23,
   "metadata": {},
   "outputs": [],
   "source": [
    "x = second_task(a,c,d,b)"
   ]
  },
  {
   "cell_type": "code",
   "execution_count": 24,
   "metadata": {},
   "outputs": [
    {
     "name": "stdout",
     "output_type": "stream",
     "text": [
      "[0.99991294 0.99991294 1.         1.         1.         1.\n",
      " 1.         1.         1.         1.         1.         1.\n",
      " 1.         1.         1.         1.         1.         1.\n",
      " 1.         1.00000401 1.00000401 1.00000401 1.00025248 1.00025248\n",
      " 1.00025248 1.         1.         1.         1.         1.\n",
      " 1.         1.         1.         1.         1.         1.\n",
      " 1.         1.         1.         1.         1.         1.\n",
      " 0.99998839 0.99998839 0.99998839 0.99999982 0.99999982 0.99999982\n",
      " 1.         1.         1.         1.         1.         1.\n",
      " 1.         1.         1.         1.         1.         1.\n",
      " 1.         1.         1.         1.         1.        ]\n"
     ]
    }
   ],
   "source": [
    "# тестовывй пример заключается в том, что все x_i = 1\n",
    "y = np.zeros(n)\n",
    "for i in range(0,2):\n",
    "    y[i] = a + d\n",
    "for i in range(2,42):\n",
    "    y[i] = a + d + c\n",
    "y[33] = a + d\n",
    "for i in range(42, 65):\n",
    "    y[i] = a + c\n",
    "x_test = second_task(a,c,d,y)\n",
    "print(x_test)"
   ]
  },
  {
   "cell_type": "markdown",
   "metadata": {},
   "source": [
    "# Задание 3.3"
   ]
  },
  {
   "cell_type": "code",
   "execution_count": 25,
   "metadata": {},
   "outputs": [],
   "source": [
    "def MRM(A, b, eps):\n",
    "    r = np.zeros(26)\n",
    "    x = np.zeros(26)\n",
    "    r = A @ x - b\n",
    "    it = 0\n",
    "    while linalg.norm(A @ x - b, ord=2)/linalg.norm(b, ord=2) >= eps:\n",
    "        t = np.sum((A @ r) * r) / np.sum((A @ r)*(A @ r))\n",
    "        x = x - t * r\n",
    "        r = A @ x - b\n",
    "        it += 1\n",
    "    return x, it"
   ]
  },
  {
   "cell_type": "code",
   "execution_count": 26,
   "metadata": {},
   "outputs": [
    {
     "name": "stdout",
     "output_type": "stream",
     "text": [
      "beta =  988\n",
      "Решение системы методом минимальных невязок: [33. 33. 33. 33. 33. 33. 33. 33. 33. 33. 33. 33. 33. 33. 33. 33. 33. 33.\n",
      " 33. 33. 33. 33. 33. 33. 33. 33.], Количество итераций: 59\n"
     ]
    }
   ],
   "source": [
    "beta = (abs(66- N) + 5) * 26\n",
    "print('beta = ', beta)\n",
    "\n",
    "A = np.array([[np.math.cos(i+j)/(0.1 * beta) + 0.1 * beta * np.math.exp(-(i - j)**2) for j in range(26)] for i in range(26)])\n",
    "x_def = np.array([N]*26)\n",
    "b = A @ x_def\n",
    "x, it = MRM(A, b, 10**-12)\n",
    "print('Решение системы методом минимальных невязок: {0}, Количество итераций: {1}'.format(x, it))"
   ]
  }
 ],
 "metadata": {
  "kernelspec": {
   "display_name": "Python 3",
   "language": "python",
   "name": "python3"
  },
  "language_info": {
   "codemirror_mode": {
    "name": "ipython",
    "version": 3
   },
   "file_extension": ".py",
   "mimetype": "text/x-python",
   "name": "python",
   "nbconvert_exporter": "python",
   "pygments_lexer": "ipython3",
   "version": "3.8.5"
  }
 },
 "nbformat": 4,
 "nbformat_minor": 2
}
